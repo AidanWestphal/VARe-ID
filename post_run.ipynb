{
 "cells": [
  {
   "cell_type": "markdown",
   "id": "4c7f5a8e",
   "metadata": {},
   "source": [
    "### **Jupyter Notebook Interface for Postprocessing**\n",
    "\n",
    "NO ADDITIONAL WORK IS NEEDED TO RUN THIS SCRIPT! Once the pipeline has successfully ran through **lca**, you can run this without any config modification."
   ]
  },
  {
   "cell_type": "code",
   "execution_count": 13,
   "id": "70cad9cd",
   "metadata": {},
   "outputs": [],
   "source": [
    "import os\n",
    "\n",
    "from algo.util.format_funcs import load_config"
   ]
  },
  {
   "cell_type": "code",
   "execution_count": 14,
   "id": "7111b380",
   "metadata": {},
   "outputs": [],
   "source": [
    "# OBTAIN THE IMPORTANT FIELDS FROM THE ORIGINAL CONFIG FILE\n",
    "\n",
    "config = load_config(\"config.yaml\")\n",
    "\n",
    "data_is_video = config[\"data_video\"]\n",
    "\n",
    "exp_name = config[\"data_dir_out\"]\n",
    "\n",
    "image_dirname = config[\"image_dirname\"]\n",
    "\n",
    "log_dir = os.path.join(exp_name, config[\"log_dir\"])\n",
    "\n",
    "image_dir = os.path.join(exp_name,image_dirname)\n",
    "\n",
    "eda_preprocess_path = os.path.join(cac_dir, config[\"cac_out_filtered\"])\n",
    "\n",
    "fs_dir = os.path.join(exp_name,config[\"fs_dir\"])\n",
    "fs_out_final_path = os.path.join(fs_dir, config[\"fs_out_final_json_file\"])\n",
    "\n",
    "if not data_is_video:\n",
    "   fs_out_final_path = eda_preprocess_path\n",
    "\n",
    "lca_out_dir = os.path.join(exp_name,config[\"lca_out_dir\"])\n",
    "\n",
    "fs_file_name = os.path.basename(fs_out_final_path)\n",
    "post_dir = os.path.join(exp_name,config[\"post_dir\"])\n",
    "sep = fs_file_name.rfind(\".\")\n",
    "annot_file_no_ext = fs_file_name[:sep].replace(\".\",\"\")\n",
    "post_right = os.path.join(lca_out_dir,annot_file_no_ext + config[\"post_lca_left_end\"])\n",
    "post_left = os.path.join(lca_out_dir,annot_file_no_ext + config[\"post_lca_right_end\"])\n",
    "post_right_out = os.path.join(post_dir, config[\"post_lca_right_out\"])\n",
    "post_left_out = os.path.join(post_dir, config[\"post_lca_left_out\"])\n",
    "post_logs = os.path.join(log_dir, config[\"post_logfile\"])"
   ]
  },
  {
   "cell_type": "code",
   "execution_count": 16,
   "id": "58f34cf7",
   "metadata": {},
   "outputs": [],
   "source": [
    "# EXECUTE\n",
    "os.mkdir(post_dir)\n",
    "\n",
    "!python algo/LCA_postprocessing_updated.py {image_dir} {post_left} {post_right} {post_left_out} {post_right_out} &> {post_logs}"
   ]
  }
 ],
 "metadata": {
  "kernelspec": {
   "display_name": "smk_pipeline",
   "language": "python",
   "name": "python3"
  },
  "language_info": {
   "codemirror_mode": {
    "name": "ipython",
    "version": 3
   },
   "file_extension": ".py",
   "mimetype": "text/x-python",
   "name": "python",
   "nbconvert_exporter": "python",
   "pygments_lexer": "ipython3",
   "version": "3.11.0"
  }
 },
 "nbformat": 4,
 "nbformat_minor": 5
}
