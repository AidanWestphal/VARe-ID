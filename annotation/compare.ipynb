{
 "cells": [
  {
   "cell_type": "code",
   "execution_count": null,
   "metadata": {
    "vscode": {
     "languageId": "plaintext"
    }
   },
   "outputs": [],
   "source": []
  },
  {
   "cell_type": "code",
   "execution_count": null,
   "metadata": {
    "vscode": {
     "languageId": "plaintext"
    }
   },
   "outputs": [],
   "source": [
    "# Load the two CSV files into dataframes\n",
    "df1 = pd.read_csv(\"gt.csv\")  # 1\n",
    "df2 = pd.read_csv(\"annotations_archive.csv\")  # 2\n",
    "\n",
    "# Merge on filename and bbox columns\n",
    "merged_df = df1.merge(df2, on=[\"filename\", \"bbox\"], suffixes=(\"_file1\", \"_file2\"))\n",
    "\n",
    "# Check for mismatches with the added condition for species_id\n",
    "mismatch = merged_df[\n",
    "    (\n",
    "        (merged_df[\"viewpoint_file1\"] != merged_df[\"viewpoint_file2\"])\n",
    "        & ~(\n",
    "            (merged_df[\"species_id_file1\"] == \"other\")\n",
    "            & (merged_df[\"species_id_file2\"] == \"other\")\n",
    "        ) & ~(\n",
    "            (merged_df[\"ia_annotation_file1\"] == False)\n",
    "            & (merged_df[\"ia_annotation_file2\"] == False)\n",
    "        ) & ~(\n",
    "            (merged_df[\"species_id_file1\"] == \"Garbage\")\n",
    "            & (merged_df[\"species_id_file2\"] == \"Garbage\")\n",
    "        ) \n",
    "    )\n",
    "    | (merged_df[\"ia_annotation_file1\"] != merged_df[\"ia_annotation_file2\"])\n",
    "    | (merged_df[\"species_id_file1\"] != merged_df[\"species_id_file2\"])\n",
    "]\n",
    "\n",
    "# Print mismatched entries\n",
    "if not mismatch.empty:\n",
    "    for _, row in mismatch.iterrows():\n",
    "        if row[\"viewpoint_file1\"] != row[\"viewpoint_file2\"]:\n",
    "            print(\n",
    "                f\"  Viewpoint: {row['viewpoint_file1']} (file1) vs {row['viewpoint_file2']} (file2)\"\n",
    "            )\n",
    "        if row[\"ia_annotation_file1\"] != row[\"ia_annotation_file2\"]:\n",
    "            print(\n",
    "                f\"  IA Annotation: {row['ia_annotation_file1']} (file1) vs {row['ia_annotation_file2']} (file2)\"\n",
    "            )\n",
    "        if row[\"species_id_file1\"] != row[\"species_id_file2\"]:\n",
    "            print(\n",
    "                f\"  Species ID: {row['species_id_file1']} (file1) vs {row['species_id_file2']} (file2)\"\n",
    "            )\n",
    "        print(\"-\" * 50)\n",
    "        # Display the corresponding image\n",
    "        image_path = f\"test_dataset/images/{row['filename']}\"  # Adjust this path as needed\n",
    "        image = cv2.imread(image_path)\n",
    "        \n",
    "        if image is not None:\n",
    "            # Extract bbox coordinates and crop the image\n",
    "            bbox_cleaned = re.sub(r'[^\\d.,]', '', row['bbox'])\n",
    "            xmin, ymin, xmax, ymax = map(float, bbox_cleaned.split(','))\n",
    "            xmin, ymin, xmax, ymax = int(xmin), int(ymin), int(xmax), int(ymax)\n",
    "            cropped_image = image[ymin:ymax, xmin:xmax]\n",
    "            \n",
    "            # Display the cropped image\n",
    "            plt.imshow(cv2.cvtColor(cropped_image, cv2.COLOR_BGR2RGB))  # Convert BGR to RGB\n",
    "            plt.title(f\"Filename: {row['filename']}, Cropped BBox: {row['bbox']}\")\n",
    "            plt.axis(\"off\")  # Hide axes for a cleaner look\n",
    "            plt.show()\n",
    "        else:\n",
    "            print(f\"Image {image_path} not found.\")\n",
    "else:\n",
    "    print(\"No mismatches found.\")\n"
   ]
  }
 ],
 "metadata": {
  "language_info": {
   "name": "python"
  }
 },
 "nbformat": 4,
 "nbformat_minor": 2
}
